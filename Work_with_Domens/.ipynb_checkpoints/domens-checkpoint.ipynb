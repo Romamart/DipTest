{
 "cells": [
  {
   "cell_type": "code",
   "execution_count": 132,
   "metadata": {},
   "outputs": [],
   "source": [
    "import numpy as np"
   ]
  },
  {
   "cell_type": "code",
   "execution_count": 133,
   "metadata": {},
   "outputs": [],
   "source": [
    "list_of_sites = []\n",
    "with open('nsSTSPreloadList.txt', 'r') as f:\n",
    "    for line in f.readlines():\n",
    "        tr = line.split(',')[0].split('.');\n",
    "        dom = ''\n",
    "        if len(tr) != 1:\n",
    "            if tr[0] == 'www':\n",
    "                if len(tr) != 2:\n",
    "                    for i in range(1, len(tr) - 1):\n",
    "                        if i == len(tr) - 2: \n",
    "                            dom += tr[i]\n",
    "                        else:\n",
    "                            dom += tr[i] + '.'\n",
    "                else:\n",
    "                    for i in range(len(tr) - 1):\n",
    "                        if i == len(tr) - 2: \n",
    "                            dom += tr[i]\n",
    "                        else:\n",
    "                            dom += tr[i] + '.'\n",
    "            else:\n",
    "                for i in range( len(tr) - 1):\n",
    "                    if i == len(tr) - 2: \n",
    "                        dom += tr[i]\n",
    "                    else:\n",
    "                        dom += tr[i] + '.'\n",
    "        else:\n",
    "            dom += tr[0]\n",
    "        list_of_sites.append(dom)"
   ]
  },
  {
   "cell_type": "code",
   "execution_count": 134,
   "metadata": {},
   "outputs": [
    {
     "data": {
      "text/plain": [
       "94245"
      ]
     },
     "execution_count": 134,
     "metadata": {},
     "output_type": "execute_result"
    }
   ],
   "source": [
    "len(list_of_sites)"
   ]
  },
  {
   "cell_type": "code",
   "execution_count": 135,
   "metadata": {},
   "outputs": [],
   "source": [
    "jo = ['yandex', 'vk', 'rambler'];\n",
    "for i in jo:\n",
    "    list_of_sites.append(i)"
   ]
  },
  {
   "cell_type": "code",
   "execution_count": 136,
   "metadata": {},
   "outputs": [
    {
     "data": {
      "text/plain": [
       "94248"
      ]
     },
     "execution_count": 136,
     "metadata": {},
     "output_type": "execute_result"
    }
   ],
   "source": [
    "len(list_of_sites)"
   ]
  },
  {
   "cell_type": "code",
   "execution_count": 137,
   "metadata": {},
   "outputs": [
    {
     "data": {
      "text/plain": [
       "['bfbfd']"
      ]
     },
     "execution_count": 137,
     "metadata": {},
     "output_type": "execute_result"
    }
   ],
   "source": [
    "'bfbfd'.split('.')"
   ]
  },
  {
   "cell_type": "code",
   "execution_count": 138,
   "metadata": {},
   "outputs": [],
   "source": [
    "len_mas = []\n",
    "for site in list_of_sites:\n",
    "    if not len(site) in len_mas:\n",
    "        len_mas.append(len(site))\n",
    "len_mas = np.sort(np.array(len_mas))"
   ]
  },
  {
   "cell_type": "code",
   "execution_count": 139,
   "metadata": {},
   "outputs": [
    {
     "data": {
      "text/plain": [
       "(50,)"
      ]
     },
     "execution_count": 139,
     "metadata": {},
     "output_type": "execute_result"
    }
   ],
   "source": [
    "len_mas.shape"
   ]
  },
  {
   "cell_type": "code",
   "execution_count": 140,
   "metadata": {},
   "outputs": [],
   "source": [
    "steck = []\n",
    "my_list = []\n",
    "for i in range(len_mas.shape[0]):\n",
    "    if i % 3 == 0:\n",
    "        if i != len_mas.shape[0] - 2:\n",
    "            if i != len_mas.shape[0]-5:\n",
    "                tmp = np.array([len_mas[i+j] for j in range(3)])\n",
    "                steck.append([min(tmp), max(tmp)])\n",
    "                my_list.append([])\n",
    "            else:\n",
    "                tmp = np.array([len_mas[i+j] for j in range(5)])\n",
    "                steck.append([min(tmp), max(tmp)])\n",
    "                my_list.append([])\n",
    "            \n",
    "                \n",
    "        "
   ]
  },
  {
   "cell_type": "code",
   "execution_count": 141,
   "metadata": {},
   "outputs": [],
   "source": [
    "# steck[14][1] = 48\n",
    "# steck[16][1] = 59"
   ]
  },
  {
   "cell_type": "code",
   "execution_count": 142,
   "metadata": {},
   "outputs": [],
   "source": [
    "tmp = steck\n",
    "steck = my_list\n",
    "my_list = tmp"
   ]
  },
  {
   "cell_type": "code",
   "execution_count": 143,
   "metadata": {},
   "outputs": [
    {
     "data": {
      "text/plain": [
       "([[1, 3],\n",
       "  [4, 6],\n",
       "  [7, 9],\n",
       "  [10, 12],\n",
       "  [13, 15],\n",
       "  [16, 18],\n",
       "  [19, 21],\n",
       "  [22, 24],\n",
       "  [25, 27],\n",
       "  [28, 30],\n",
       "  [31, 33],\n",
       "  [34, 36],\n",
       "  [37, 39],\n",
       "  [40, 42],\n",
       "  [43, 49],\n",
       "  [50, 62]],\n",
       " [[], [], [], [], [], [], [], [], [], [], [], [], [], [], [], []])"
      ]
     },
     "execution_count": 143,
     "metadata": {},
     "output_type": "execute_result"
    }
   ],
   "source": [
    "my_list, steck"
   ]
  },
  {
   "cell_type": "code",
   "execution_count": 144,
   "metadata": {},
   "outputs": [
    {
     "data": {
      "text/plain": [
       "16"
      ]
     },
     "execution_count": 144,
     "metadata": {},
     "output_type": "execute_result"
    }
   ],
   "source": [
    "len(my_list)"
   ]
  },
  {
   "cell_type": "code",
   "execution_count": 145,
   "metadata": {},
   "outputs": [
    {
     "name": "stdout",
     "output_type": "stream",
     "text": [
      "1\n",
      "10000\n",
      "20000\n",
      "30000\n",
      "40000\n",
      "50000\n",
      "60000\n",
      "70000\n",
      "80000\n",
      "90000\n"
     ]
    }
   ],
   "source": [
    "i = 1\n",
    "for site in list_of_sites:\n",
    "    for k in range(len(my_list)):\n",
    "        if (len(site)>=my_list[k][0])and(len(site)<=my_list[k][1]):\n",
    "            steck[k].append(site)\n",
    "            break\n",
    "    if (i % 10000 == 0) or (i == 1):\n",
    "        print(i)\n",
    "    i += 1"
   ]
  },
  {
   "cell_type": "code",
   "execution_count": 146,
   "metadata": {},
   "outputs": [
    {
     "data": {
      "text/plain": [
       "94248"
      ]
     },
     "execution_count": 146,
     "metadata": {},
     "output_type": "execute_result"
    }
   ],
   "source": [
    "sum_all = 0\n",
    "for k in steck:\n",
    "    sum_all += len(k)\n",
    "sum_all"
   ]
  },
  {
   "cell_type": "code",
   "execution_count": 147,
   "metadata": {},
   "outputs": [],
   "source": [
    "import copy\n",
    "import json"
   ]
  },
  {
   "cell_type": "code",
   "execution_count": 148,
   "metadata": {},
   "outputs": [],
   "source": [
    "str_len = 'len_'\n",
    "for i in range(len(steck)):\n",
    "    newlist = copy.copy(steck[i])\n",
    "    with open(f'src/{str_len}{my_list[i][0]}-{my_list[i][1]}.json', 'w') as f:\n",
    "        json.dump(newlist,f)"
   ]
  },
  {
   "cell_type": "code",
   "execution_count": 1,
   "metadata": {},
   "outputs": [],
   "source": [
    "import random"
   ]
  },
  {
   "cell_type": "code",
   "execution_count": 2,
   "metadata": {},
   "outputs": [],
   "source": [
    "list_of_sites2 = []\n",
    "with open('nsSTSPreloadList.txt', 'r') as f:\n",
    "    for line in f.readlines():\n",
    "        list_of_sites2.append(line.split(',')[0])"
   ]
  },
  {
   "cell_type": "code",
   "execution_count": 3,
   "metadata": {},
   "outputs": [],
   "source": [
    "def get_site(list_of_sites):\n",
    "    my_array = list_of_sites\n",
    "    for i in range(len(my_array)-1, 0, -1):\n",
    "        j = random.randint(0, i + 1)\n",
    "        my_array[i], my_array[j] = my_array[j], my_array[i]\n",
    "#     my_array = random.shuffle(my_array)\n",
    "    for site in my_array:\n",
    "        yield site "
   ]
  },
  {
   "cell_type": "code",
   "execution_count": 334,
   "metadata": {},
   "outputs": [
    {
     "data": {
      "text/plain": [
       "'alvcs.com'"
      ]
     },
     "execution_count": 334,
     "metadata": {},
     "output_type": "execute_result"
    }
   ],
   "source": [
    "next(get_site(list_of_sites2))"
   ]
  },
  {
   "cell_type": "code",
   "execution_count": 160,
   "metadata": {},
   "outputs": [
    {
     "data": {
      "text/plain": [
       "'orangekey.tk'"
      ]
     },
     "execution_count": 160,
     "metadata": {},
     "output_type": "execute_result"
    }
   ],
   "source": [
    "next(get_site(list_of_sites2))"
   ]
  },
  {
   "cell_type": "code",
   "execution_count": 336,
   "metadata": {},
   "outputs": [],
   "source": [
    "list_of_sites3 = []\n",
    "with open('feed.txt', 'r') as f:\n",
    "    for line in f.readlines():\n",
    "        list_of_sites3.append(line.split('\\n')[0])"
   ]
  },
  {
   "cell_type": "code",
   "execution_count": 572,
   "metadata": {},
   "outputs": [
    {
     "data": {
      "text/plain": [
       "'http://key4ser.com/mazon'"
      ]
     },
     "execution_count": 572,
     "metadata": {},
     "output_type": "execute_result"
    }
   ],
   "source": [
    "next(get_site(list_of_sites3))"
   ]
  },
  {
   "cell_type": "code",
   "execution_count": null,
   "metadata": {},
   "outputs": [],
   "source": []
  }
 ],
 "metadata": {
  "kernelspec": {
   "display_name": "Python 3",
   "language": "python",
   "name": "python3"
  },
  "language_info": {
   "codemirror_mode": {
    "name": "ipython",
    "version": 3
   },
   "file_extension": ".py",
   "mimetype": "text/x-python",
   "name": "python",
   "nbconvert_exporter": "python",
   "pygments_lexer": "ipython3",
   "version": "3.7.4"
  }
 },
 "nbformat": 4,
 "nbformat_minor": 4
}
