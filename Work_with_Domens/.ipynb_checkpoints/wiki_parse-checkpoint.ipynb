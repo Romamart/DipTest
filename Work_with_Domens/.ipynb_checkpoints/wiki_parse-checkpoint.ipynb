{
 "cells": [
  {
   "cell_type": "code",
   "execution_count": 1,
   "metadata": {},
   "outputs": [],
   "source": [
    "import lxml.html\n",
    "import lxml.etree\n",
    "import requests\n",
    "import re\n",
    "import numpy as np"
   ]
  },
  {
   "cell_type": "code",
   "execution_count": 2,
   "metadata": {},
   "outputs": [],
   "source": [
    "link = \"https://ru.wikipedia.org/wiki/%D0%A1%D0%BF%D0%B8%D1%81%D0%BE%D0%BA_%D0%B4%D0%BE%D0%BC%D0%B5%D0%BD%D0%BE%D0%B2_%D0%B2%D0%B5%D1%80%D1%85%D0%BD%D0%B5%D0%B3%D0%BE_%D1%83%D1%80%D0%BE%D0%B2%D0%BD%D1%8F\""
   ]
  },
  {
   "cell_type": "code",
   "execution_count": 3,
   "metadata": {},
   "outputs": [],
   "source": [
    "response = requests.get(link)\n",
    "tree = lxml.html.fromstring(response.text)"
   ]
  },
  {
   "cell_type": "code",
   "execution_count": 4,
   "metadata": {},
   "outputs": [],
   "source": [
    "tik_names = tree.xpath('//table[@class=\"wikitable sortable jguery-tablesorter\"]')"
   ]
  },
  {
   "cell_type": "code",
   "execution_count": 5,
   "metadata": {},
   "outputs": [
    {
     "data": {
      "text/plain": [
       "[]"
      ]
     },
     "execution_count": 5,
     "metadata": {},
     "output_type": "execute_result"
    }
   ],
   "source": [
    "tik_names"
   ]
  },
  {
   "cell_type": "code",
   "execution_count": 6,
   "metadata": {},
   "outputs": [],
   "source": [
    "import requests\n",
    "from bs4 import BeautifulSoup"
   ]
  },
  {
   "cell_type": "code",
   "execution_count": 7,
   "metadata": {},
   "outputs": [],
   "source": [
    "\n",
    "html = requests.get(link).text\n",
    "bs4 = BeautifulSoup(html, \"html.parser\")\n",
    "# tables = bs4.find_all(\"table\") #получаем список таблиц\n",
    "# for table in tables:\n",
    "#     links = table.find_all(\"a\") #список всех ссылок\n",
    "#     for link in links:\n",
    "#         try: # ловим исключение KeyError, ибо атрибут title есть не у всех ссылок\n",
    "#             print(link[\"title\"]) #выводим значение атрибута\n",
    "#         except KeyError:\n",
    "#             pass"
   ]
  },
  {
   "cell_type": "code",
   "execution_count": 18,
   "metadata": {},
   "outputs": [],
   "source": [
    "tables = bs4.find_all(\"table\")"
   ]
  },
  {
   "cell_type": "code",
   "execution_count": 22,
   "metadata": {},
   "outputs": [],
   "source": [
    "links = tables[2].find_all('tr')"
   ]
  },
  {
   "cell_type": "code",
   "execution_count": 60,
   "metadata": {},
   "outputs": [],
   "source": [
    "list_dom = []\n",
    "i = 0\n",
    "for link in links:\n",
    "    if i != 0:\n",
    "        tds = link.find_all('td')\n",
    "#         print(len(tds))\n",
    "        if len(tds) == 5:\n",
    "            list_dom.append([tds[0].a.text,tds[4].text.replace(\"\\n\",\"\")])\n",
    "        if len(tds) == 4:\n",
    "            list_dom.append([tds[0].a.text,'Нет']) \n",
    "    i+=1"
   ]
  },
  {
   "cell_type": "code",
   "execution_count": 61,
   "metadata": {},
   "outputs": [],
   "source": [
    "links2 = tables[3].find_all('tr')"
   ]
  },
  {
   "cell_type": "code",
   "execution_count": 62,
   "metadata": {},
   "outputs": [],
   "source": [
    "i = 0\n",
    "for link in links2:\n",
    "    if i != 0:\n",
    "        tds = link.find_all('td')\n",
    "#         print(len(tds))\n",
    "        if tds[0].a:\n",
    "            list_dom.append([tds[0].a.text,tds[5].text])\n",
    "        else:\n",
    "            list_dom.append([tds[0].text,tds[5].text])\n",
    "    i+=1"
   ]
  },
  {
   "cell_type": "code",
   "execution_count": 64,
   "metadata": {},
   "outputs": [
    {
     "data": {
      "text/plain": [
       "348"
      ]
     },
     "execution_count": 64,
     "metadata": {},
     "output_type": "execute_result"
    }
   ],
   "source": [
    "len(list_dom)"
   ]
  },
  {
   "cell_type": "code",
   "execution_count": 69,
   "metadata": {},
   "outputs": [],
   "source": [
    "dict_dom = {}\n",
    "for k in range(len(list_dom)):\n",
    "    if list_dom[k][1] == \"Да\":\n",
    "        dict_dom.update({list_dom[k][0]:True})\n",
    "    else:\n",
    "        dict_dom.update({list_dom[k][0]:False})"
   ]
  },
  {
   "cell_type": "code",
   "execution_count": 71,
   "metadata": {},
   "outputs": [],
   "source": [
    "import json"
   ]
  },
  {
   "cell_type": "code",
   "execution_count": 72,
   "metadata": {},
   "outputs": [],
   "source": [
    "with open('dom_up.json','w') as f:\n",
    "    json.dump(dict_dom,f)"
   ]
  }
 ],
 "metadata": {
  "kernelspec": {
   "display_name": "Python 3",
   "language": "python",
   "name": "python3"
  },
  "language_info": {
   "codemirror_mode": {
    "name": "ipython",
    "version": 3
   },
   "file_extension": ".py",
   "mimetype": "text/x-python",
   "name": "python",
   "nbconvert_exporter": "python",
   "pygments_lexer": "ipython3",
   "version": "3.7.4"
  }
 },
 "nbformat": 4,
 "nbformat_minor": 4
}
