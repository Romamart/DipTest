{
 "cells": [
  {
   "cell_type": "code",
   "execution_count": 1,
   "metadata": {},
   "outputs": [],
   "source": [
    "import os\n",
    "import numpy as np\n",
    "import matplotlib.pyplot as plt\n",
    "import seaborn as sns\n",
    "import pandas as pd\n",
    "from math import isnan"
   ]
  },
  {
   "cell_type": "code",
   "execution_count": 2,
   "metadata": {},
   "outputs": [],
   "source": [
    "def Load_Data(path_dir):\n",
    "    list_text = os.listdir(path=path_dir)\n",
    "    text_array = ''\n",
    "    for text in list_text:\n",
    "        with open(path_dir + text, 'r') as f:\n",
    "            text_array+= f.readline() + '\\n'\n",
    "    text_array = text_array.replace('\\ufeff', '')\n",
    "    list_of_files = text_array.split('\\n')\n",
    "    for i in range(len(list_of_files)):\n",
    "        list_of_files[i] = list_of_files[i].split('\\t')\n",
    "    text_tmp = []\n",
    "    for i in range(len(list_of_files)):\n",
    "        if list_of_files[i] != ['']:\n",
    "            text_tmp.append(list_of_files[i])\n",
    "    return text_tmp"
   ]
  },
  {
   "cell_type": "code",
   "execution_count": 3,
   "metadata": {},
   "outputs": [],
   "source": [
    "def ParseData(data):\n",
    "    list_of_sites, body_array, values = [],[],[];\n",
    "    for i in range(len(data)):\n",
    "        body_array.append([])\n",
    "        for j in range(len(data[i])):\n",
    "            if j == 0:\n",
    "                list_of_sites.append(data[i][j])\n",
    "            elif j == len(data[i])-1:\n",
    "                values.append(int(data[i][j]))\n",
    "            else:\n",
    "                if j != 4:\n",
    "                    if data[i][j] == 'null':\n",
    "                        body_array[i].append(0)\n",
    "                    elif data[i][j] == 'true':\n",
    "                        body_array[i].append(1)\n",
    "                    elif data[i][j] == 'false':\n",
    "                        if j == 2:\n",
    "                            body_array[i].append(0)\n",
    "                        else:\n",
    "                            body_array[i].append(-1)\n",
    "                    else:\n",
    "        #                 print(text_array[i][j])\n",
    "                        body_array[i].append(float(data[i][j]))\n",
    "    return list_of_sites, np.array(body_array), np.array(values)"
   ]
  },
  {
   "cell_type": "code",
   "execution_count": 5,
   "metadata": {},
   "outputs": [],
   "source": [
    "_, data_train, val_train = ParseData(Load_Data('New_train/'))\n",
    "_, data_test, val_test = ParseData(Load_Data('New_test/'))\n",
    "_, data_val,val_val = ParseData(Load_Data('New_val/'))"
   ]
  },
  {
   "cell_type": "code",
   "execution_count": 6,
   "metadata": {},
   "outputs": [],
   "source": [
    "def get_color_array(array, f):\n",
    "    return ['red' if f(array[i]) > 0.5 else 'blue' for i in range(len(array))]"
   ]
  },
  {
   "cell_type": "code",
   "execution_count": 7,
   "metadata": {},
   "outputs": [],
   "source": [
    "val_train_color = get_color_array(val_train, lambda x: x)\n",
    "val_test_color = get_color_array(val_test, lambda x: x)"
   ]
  },
  {
   "cell_type": "code",
   "execution_count": 8,
   "metadata": {},
   "outputs": [],
   "source": [
    "from sklearn.manifold import TSNE"
   ]
  },
  {
   "cell_type": "code",
   "execution_count": 9,
   "metadata": {},
   "outputs": [],
   "source": [
    "model_to2D = TSNE(learning_rate=100)\n",
    "transform = model_to2D.fit_transform(data_train)"
   ]
  },
  {
   "cell_type": "code",
   "execution_count": 10,
   "metadata": {},
   "outputs": [],
   "source": [
    "x = transform[:,0]\n",
    "y = transform[:,1]"
   ]
  },
  {
   "cell_type": "code",
   "execution_count": 11,
   "metadata": {},
   "outputs": [],
   "source": [
    "import torch\n",
    "import numpy as np\n",
    "\n",
    "from torch.optim import Adam\n",
    "\n",
    "from torch.utils.data import Dataset, TensorDataset, DataLoader\n",
    "from torch import nn"
   ]
  },
  {
   "cell_type": "code",
   "execution_count": 12,
   "metadata": {},
   "outputs": [],
   "source": [
    "X_train = torch.tensor(data_train, dtype=torch.float)\n",
    "y_train = torch.tensor(val_train, dtype=torch.float).view(-1,1)"
   ]
  },
  {
   "cell_type": "code",
   "execution_count": 13,
   "metadata": {},
   "outputs": [],
   "source": [
    "data = TensorDataset(X_train, y_train)"
   ]
  },
  {
   "cell_type": "code",
   "execution_count": 14,
   "metadata": {},
   "outputs": [],
   "source": [
    "class PhishingRegressor(nn.Module):\n",
    "    def __init__(self):\n",
    "        super().__init__()\n",
    "        self.linear1 = nn.Linear(data_train.shape[1], 50)\n",
    "        self.linear2 = nn.Linear(50, 1)\n",
    "        \n",
    "    def forward(self, x):\n",
    "        return torch.sigmoid(self.linear2(torch.sigmoid(self.linear1(x))))"
   ]
  },
  {
   "cell_type": "code",
   "execution_count": 15,
   "metadata": {},
   "outputs": [],
   "source": [
    "X_val = torch.tensor(data_val, dtype=torch.float)"
   ]
  },
  {
   "cell_type": "code",
   "execution_count": 16,
   "metadata": {},
   "outputs": [],
   "source": [
    "def train_model(model):\n",
    "    optimizer = Adam(model.parameters(), lr=1e-3)\n",
    "\n",
    "    loss = nn.BCELoss()\n",
    "    train_loader = DataLoader(dataset=data, batch_size=20)\n",
    "    epoch = 0\n",
    "    while True:\n",
    "        for X_batch, y_batch in train_loader:   \n",
    "            y_pred = model(X_batch)    \n",
    "            bce = loss(y_pred, y_batch)\n",
    "\n",
    "            bce.backward()        \n",
    "\n",
    "            optimizer.step()\n",
    "            optimizer.zero_grad()       \n",
    "           \n",
    "        epoch += 1\n",
    "        if epoch % 1000 == 0:\n",
    "            acc = round(sum([int(val_val[i] == int(model(X_val[i])>0.5)) for i in range(X_val.shape[0])])/val_val.shape[0], 2)\n",
    "            print(f'Epoch = {epoch}, loss = {bce}, acc = {acc}')\n",
    "        if bce < 0.0000001:\n",
    "            break"
   ]
  },
  {
   "cell_type": "code",
   "execution_count": 17,
   "metadata": {},
   "outputs": [],
   "source": [
    "model = PhishingRegressor()"
   ]
  },
  {
   "cell_type": "code",
   "execution_count": 18,
   "metadata": {},
   "outputs": [
    {
     "name": "stdout",
     "output_type": "stream",
     "text": [
      "Epoch = 1000, loss = 0.00272630644030869, acc = 1.0\n",
      "Epoch = 2000, loss = 3.9210044633364305e-05, acc = 1.0\n",
      "Epoch = 3000, loss = 4.1723305344021355e-07, acc = 1.0\n"
     ]
    }
   ],
   "source": [
    "train_model(model)"
   ]
  },
  {
   "cell_type": "code",
   "execution_count": 20,
   "metadata": {},
   "outputs": [],
   "source": [
    "res_train_color = get_color_array(X_train, model)"
   ]
  },
  {
   "cell_type": "code",
   "execution_count": 21,
   "metadata": {},
   "outputs": [
    {
     "data": {
      "image/png": "[encoded data removed]",
      "text/plain": [
       "<Figure size 432x288 with 2 Axes>"
      ]
     },
     "metadata": {
      "needs_background": "light"
     },
     "output_type": "display_data"
    }
   ],
   "source": [
    "f_train, ax1 = plt.subplots(1,2, sharey=True)\n",
    "ax1[0].scatter(x, y, c=val_train_color)\n",
    "ax1[0].set_title('без обработки')\n",
    "ax1[1].scatter(x, y, c=res_train_color)\n",
    "ax1[1].set_title('результат модели')\n",
    "plt.show()"
   ]
  },
  {
   "cell_type": "code",
   "execution_count": 22,
   "metadata": {},
   "outputs": [],
   "source": [
    "transform_test = model_to2D.fit_transform(data_test)\n",
    "x_2 = transform_test[:, 0]\n",
    "y_2 = transform_test[:, 1]"
   ]
  },
  {
   "cell_type": "code",
   "execution_count": 23,
   "metadata": {},
   "outputs": [],
   "source": [
    "X_test = torch.tensor(data_test, dtype=torch.float)"
   ]
  },
  {
   "cell_type": "code",
   "execution_count": 24,
   "metadata": {},
   "outputs": [],
   "source": [
    "res_color_test = get_color_array(X_test, model)"
   ]
  },
  {
   "cell_type": "code",
   "execution_count": 25,
   "metadata": {},
   "outputs": [
    {
     "data": {
      "image/png": "[encoded data removed]",
      "text/plain": [
       "<Figure size 432x288 with 2 Axes>"
      ]
     },
     "metadata": {
      "needs_background": "light"
     },
     "output_type": "display_data"
    }
   ],
   "source": [
    "f_test, ax2 = plt.subplots(1,2, sharey=True)\n",
    "ax2[0].scatter(x_2, y_2, c=val_test_color)\n",
    "ax2[0].set_title('Тестовое множесто')\n",
    "ax2[1].scatter(x_2, y_2, c=res_color_test)\n",
    "ax2[1].set_title('Результат модели')\n",
    "plt.show()"
   ]
  },
  {
   "cell_type": "code",
   "execution_count": 26,
   "metadata": {},
   "outputs": [],
   "source": [
    "acc = sum([int(val_test[i] == int(model(X_test[i])>0.5)) for i in range(X_test.shape[0])])/X_test.shape[0]"
   ]
  },
  {
   "cell_type": "code",
   "execution_count": 27,
   "metadata": {},
   "outputs": [
    {
     "data": {
      "text/plain": [
       "0.9"
      ]
     },
     "execution_count": 27,
     "metadata": {},
     "output_type": "execute_result"
    }
   ],
   "source": [
    "acc"
   ]
  },
  {
   "cell_type": "code",
   "execution_count": 28,
   "metadata": {},
   "outputs": [],
   "source": [
    "def F_b (b=1):\n",
    "    return (1+b**2)*(precision*recall)/(b**2*precision+recall)"
   ]
  },
  {
   "cell_type": "code",
   "execution_count": 29,
   "metadata": {},
   "outputs": [
    {
     "data": {
      "text/plain": [
       "0.9"
      ]
     },
     "execution_count": 29,
     "metadata": {},
     "output_type": "execute_result"
    }
   ],
   "source": [
    "TP = 0\n",
    "FP = 0\n",
    "FN = 0\n",
    "for i in range(len(val_test)):\n",
    "    if val_test[i] == int(model(X_test[i])>0.5):\n",
    "        if int(model(X_test[i])>0.5) == 1:\n",
    "            TP += 1\n",
    "    else:\n",
    "        if int(model(X_test[i])>0.5) == 0:\n",
    "            FN += 1\n",
    "        else:\n",
    "            FP += 1\n",
    "precision = TP/(TP+FP)\n",
    "recall = TP/(TP+FN)\n",
    "F_b()"
   ]
  }
 ],
 "metadata": {
  "kernelspec": {
   "display_name": "Python 3",
   "language": "python",
   "name": "python3"
  },
  "language_info": {
   "codemirror_mode": {
    "name": "ipython",
    "version": 3
   },
   "file_extension": ".py",
   "mimetype": "text/x-python",
   "name": "python",
   "nbconvert_exporter": "python",
   "pygments_lexer": "ipython3",
   "version": "3.7.4"
  }
 },
 "nbformat": 4,
 "nbformat_minor": 4
}
