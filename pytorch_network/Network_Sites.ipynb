{
 "cells": [
  {
   "cell_type": "code",
   "execution_count": 1,
   "metadata": {},
   "outputs": [],
   "source": [
    "import os\n",
    "import numpy as np\n",
    "import matplotlib.pyplot as plt\n",
    "import seaborn as sns\n",
    "import pandas as pd\n",
    "from math import isnan\n",
    "import json"
   ]
  },
  {
   "cell_type": "code",
   "execution_count": 2,
   "metadata": {},
   "outputs": [],
   "source": [
    "def Load_Data(path_dir):\n",
    "    list_text = os.listdir(path=path_dir)\n",
    "    text_array = ''\n",
    "    for text in list_text:\n",
    "        with open(path_dir + text, 'r') as f:\n",
    "            text_array+= f.readline() + '\\n'\n",
    "    text_array = text_array.replace('\\ufeff', '')\n",
    "    list_of_files = text_array.split('\\n')\n",
    "    for i in range(len(list_of_files)):\n",
    "        list_of_files[i] = list_of_files[i].split('\\t')\n",
    "    text_tmp = []\n",
    "    for i in range(len(list_of_files)):\n",
    "        if list_of_files[i] != ['']:\n",
    "            text_tmp.append(list_of_files[i])\n",
    "    return text_tmp"
   ]
  },
  {
   "cell_type": "code",
   "execution_count": 3,
   "metadata": {},
   "outputs": [],
   "source": [
    "def ParseData(data):\n",
    "    list_of_sites, body_array, values = [],[],[];\n",
    "    for i in range(len(data)):\n",
    "        body_array.append([])\n",
    "        for j in range(len(data[i])):\n",
    "            if j == 0:\n",
    "                list_of_sites.append(data[i][j])\n",
    "            elif j == len(data[i])-1:\n",
    "                values.append([int(data[i][j])])\n",
    "            else:\n",
    "                if j != 4:\n",
    "                    if data[i][j] == 'null':\n",
    "                        body_array[i].append(0)\n",
    "                    elif data[i][j] == 'true':\n",
    "                        body_array[i].append(1)\n",
    "                    elif data[i][j] == 'false':\n",
    "                        if j == 2:\n",
    "                            body_array[i].append(0)\n",
    "                        else:\n",
    "                            body_array[i].append(-1)\n",
    "                    else:\n",
    "        #                 print(text_array[i][j])\n",
    "                        body_array[i].append(float(data[i][j]))\n",
    "    return np.concatenate((np.array(body_array), np.array(values)), axis=1)"
   ]
  },
  {
   "cell_type": "code",
   "execution_count": 4,
   "metadata": {},
   "outputs": [],
   "source": [
    "data_all = ParseData(Load_Data('Data/'))"
   ]
  },
  {
   "cell_type": "code",
   "execution_count": 5,
   "metadata": {},
   "outputs": [],
   "source": [
    "import torch\n",
    "import numpy as np\n",
    "\n",
    "from torch.optim import Adam\n",
    "\n",
    "from torch.utils.data import Dataset, TensorDataset, DataLoader, random_split\n",
    "from torch import nn"
   ]
  },
  {
   "cell_type": "code",
   "execution_count": 9,
   "metadata": {},
   "outputs": [],
   "source": [
    "class PhishingRegressor(nn.Module):\n",
    "    def __init__(self, name=''):\n",
    "        super().__init__()\n",
    "        self.name = name\n",
    "        self.train = None\n",
    "        self.test = None\n",
    "        self.epoch = None\n",
    "        self.linear1 = nn.Linear(10, 1)\n",
    "#         self.linear2 = nn.Linear(10, 1)\n",
    "        \n",
    "    def forward(self, x):\n",
    "#         x = torch.tanh(self.linear1(x))\n",
    "        x = torch.sigmoid(self.linear1(x))\n",
    "        return x\n",
    "    \n",
    "    def Pred(self, data, l):\n",
    "        loss_new = nn.BCELoss()\n",
    "        train_loader = DataLoader(dataset=data, batch_size=l)\n",
    "        acc_new = 0\n",
    "        for X_batch, y_batch in train_loader:\n",
    "            y_pred = self(X_batch)\n",
    "            bce_new = loss_new(y_pred, y_batch)\n",
    "            acc_new = round(sum([int(y_batch[i] == int(y_pred[i][0]>0.5)) for i in range(y_pred.shape[0])])/l, 3)\n",
    "        return bce_new, acc_new\n",
    "\n",
    "    def Data_to_Tensor(self, data, length=[200,20,10]):\n",
    "        ttv = [[],[],[]]\n",
    "        np.random.shuffle(data)\n",
    "        j = 0\n",
    "        num = 0\n",
    "        classes = [[],[]]\n",
    "        for i in range(data.shape[0]):\n",
    "            classes[int(data[i,-1])].append(data[i])\n",
    "        for j in range(len(classes)):\n",
    "            num = 0\n",
    "            u = 0\n",
    "            for k in range(len(classes[j])):\n",
    "                if num != length[u]/2:\n",
    "                    ttv[u].append(classes[j][k])\n",
    "                    num += 1\n",
    "                else:\n",
    "                    if u < len(length) - 1:\n",
    "                        u += 1\n",
    "                        num = 0\n",
    "                    ttv[u].append(classes[j][k])\n",
    "                    num += 1\n",
    "        for i in range(len(ttv)):\n",
    "            ttv[i] = np.array(ttv[i])\n",
    "            np.random.shuffle(ttv[i])\n",
    "        out = []\n",
    "        for i in range(len(ttv)):\n",
    "            out.append(TensorDataset(torch.tensor(ttv[i][:,:-1], dtype=torch.float), torch.tensor(ttv[i][:,-1], dtype=torch.float).view(-1,1)))\n",
    "        return out\n",
    "    def train_model(self, data, length=[200,20,10]):\n",
    "        optimizer = Adam(model.parameters(), lr=1e-3)\n",
    "        epochs, bce_train, bce_val= [], [], []\n",
    "        loss = nn.BCELoss()\n",
    "        ltrain, ltest, lval = length\n",
    "        Data_train, Data_test, Data_val = self.Data_to_Tensor(data)\n",
    "        train_loader = DataLoader(dataset=Data_train, batch_size=20)\n",
    "        test_loader = DataLoader(dataset=Data_train, batch_size=ltest)\n",
    "        train_loader_show = DataLoader(dataset=Data_train, batch_size=ltrain+ltest+lval) \n",
    "        epoch = 0\n",
    "        max_epoch = 4000\n",
    "        while True:\n",
    "            epochs.append(epoch)\n",
    "            for X_batch, y_batch in train_loader:   \n",
    "                y_pred = self(X_batch)    \n",
    "                bce = loss(y_pred, y_batch)\n",
    "\n",
    "                bce.backward()        \n",
    "\n",
    "                optimizer.step()\n",
    "                optimizer.zero_grad()       \n",
    "            \n",
    "            bce_train.append(bce)\n",
    "            bce_val.append(self.Pred(Data_val, lval)[0])\n",
    "            epoch += 1\n",
    "            if epoch % 100 == 0:\n",
    "#                 print(bce.detach().numpy().tolist())\n",
    "                print(f'Epoch = {epoch}, loss = {round(bce.detach().numpy().tolist(), 5)},acc_train = {self.Pred(Data_train,ltrain)[1]}, acc_val = {self.Pred(Data_val,lval)[1]}, acc_test = {self.Pred(Data_test,ltest)[1]}')\n",
    "            if self.Pred(Data_train,ltrain)[1]>=0.96:\n",
    "#                 print(self.Pred(Data_test, ltest))\n",
    "                plt.plot(epochs[:200],bce_train[:200], color='black')\n",
    "                plt.plot(epochs[:200],bce_val[:200])\n",
    "                break\n",
    "            if epoch == max_epoch:\n",
    "                plt.plot(epochs[:200],bce_train[:200], color='black')\n",
    "                plt.plot(epochs[:200],bce_val[:200])\n",
    "                break\n",
    "        self.train = train_loader_show\n",
    "        self.test = test_loader\n",
    "        self.epoch = epoch \n",
    "#         return train_loader_show, test_loader\n",
    "    def Save_model_data(self):\n",
    "        for data, val in self.train:\n",
    "            tmp = []\n",
    "            for i in range(data.shape[0]):\n",
    "                dict_tr = {}\n",
    "                dict_tr['input'] = data[i].detach().numpy().tolist()\n",
    "                dict_tr['output'] = val[i].detach().numpy().tolist()\n",
    "                tmp.append(dict_tr)\n",
    "            with open(f'../js_network/Data/train{self.name}.json','w') as f:\n",
    "                json.dump(tmp, f)\n",
    "        for data, val in self.test:\n",
    "            tmp = []\n",
    "            for i in range(data.shape[0]):\n",
    "                dict_tr = {}\n",
    "                dict_tr['input'] = data[i].detach().numpy().tolist()\n",
    "                dict_tr['output'] = val[i].detach().numpy().tolist()\n",
    "                tmp.append(dict_tr)\n",
    "            with open(f'../js_network/Data/test{self.name}.json','w') as f:\n",
    "                json.dump(tmp, f)"
   ]
  },
  {
   "cell_type": "code",
   "execution_count": 10,
   "metadata": {},
   "outputs": [],
   "source": [
    "class ConnectModels(nn.Module):\n",
    "    def __init__(self, name='Connect'):\n",
    "        super().__init__()\n",
    "        self.name = name\n",
    "        self.train = None\n",
    "        self.test = None\n",
    "        self.epoch = None\n",
    "        self.linear1 = nn.Linear(5, 1)\n",
    "#         self.linear2 = nn.Linear(10, 1)\n",
    "        \n",
    "    def forward(self, x):\n",
    "        x = torch.sigmoid(self.linear1(x))\n",
    "        return x\n",
    "    \n",
    "    def Pred(self, data, l):\n",
    "        loss_new = nn.BCELoss()\n",
    "        train_loader = DataLoader(dataset=data, batch_size=l)\n",
    "        acc_new = 0\n",
    "        for X_batch, y_batch in train_loader:\n",
    "            y_pred = self(X_batch)\n",
    "            bce_new = loss_new(y_pred, y_batch)\n",
    "            acc_new = round(sum([int(y_batch[i] == int(y_pred[i][0]>0.5)) for i in range(y_pred.shape[0])])/l, 3)\n",
    "        return bce_new, acc_new\n",
    "    \n",
    "    def train_model(self, data, length=[200,20,10]):\n",
    "        optimizer = Adam(model.parameters(), lr=1e-3)\n",
    "        epochs, bce_train, bce_val= [], [], []\n",
    "        loss = nn.BCELoss()\n",
    "        ltrain, ltest, lval = length\n",
    "        Data_train, Data_test, Data_val = self.Data_to_Tensor(data)\n",
    "        train_loader = DataLoader(dataset=Data_train, batch_size=20)\n",
    "#         test_loader = DataLoader(dataset=Data_train, batch_size=ltest)\n",
    "#         train_loader_show = DataLoader(dataset=Data_train, batch_size=ltrain+ltest+lval) \n",
    "        epoch = 0\n",
    "        max_epoch = 4000\n",
    "        while True:\n",
    "            epochs.append(epoch)\n",
    "            for X_batch, y_batch in train_loader:   \n",
    "                y_pred = self(X_batch)    \n",
    "                bce = loss(y_pred, y_batch)\n",
    "\n",
    "                bce.backward()        \n",
    "\n",
    "                optimizer.step()\n",
    "                optimizer.zero_grad()       \n",
    "            \n",
    "            bce_train.append(bce)\n",
    "            bce_val.append(self.Pred(Data_val, lval)[0])\n",
    "            epoch += 1\n",
    "            if epoch % 100 == 0:\n",
    "#                 print(bce.detach().numpy().tolist())\n",
    "                print(f'Epoch = {epoch}, loss = {round(bce.detach().numpy().tolist(), 5)},\\\n",
    "                      acc_train = {self.Pred(Data_train,ltrain)[1]}, acc_val = {self.Pred(Data_val,lval)[1]},\\\n",
    "                      acc_test = {self.Pred(Data_test,ltest)[1]}')\n",
    "            if self.Pred(Data_train,ltrain)[1]>=0.97:\n",
    "#                 print(self.Pred(Data_test, ltest))\n",
    "                print(f'Epoch = {epoch}, loss = {round(bce.detach().numpy().tolist(), 5)},\\\n",
    "                      acc_train = {self.Pred(Data_train,ltrain)[1]}, acc_val = {self.Pred(Data_val,lval)[1]},\\\n",
    "                      acc_test = {self.Pred(Data_test,ltest)[1]}')\n",
    "                plt.plot(epochs[:200],bce_train[:200], color='black')\n",
    "                plt.plot(epochs[:200],bce_val[:200])\n",
    "                break\n",
    "            if epoch == max_epoch:\n",
    "                print(f'Epoch = {epoch}, loss = {round(bce.detach().numpy().tolist(), 5)},\\\n",
    "                      acc_train = {self.Pred(Data_train,ltrain)[1]}, acc_val = {self.Pred(Data_val,lval)[1]},\\\n",
    "                      acc_test = {self.Pred(Data_test,ltest)[1]}')\n",
    "                plt.plot(epochs[:200],bce_train[:200], color='black')\n",
    "                plt.plot(epochs[:200],bce_val[:200])\n",
    "                break\n",
    "    def Data_to_Tensor(self, data, length=[200,20,10]):\n",
    "        ttv = [[],[],[]]\n",
    "        np.random.shuffle(data)\n",
    "        j = 0\n",
    "        num = 0\n",
    "        classes = [[],[]]\n",
    "        for i in range(data.shape[0]):\n",
    "            classes[int(data[i,-1])].append(data[i])\n",
    "        for j in range(len(classes)):\n",
    "            num = 0\n",
    "            u = 0\n",
    "            for k in range(len(classes[j])):\n",
    "                if num != length[u]/2:\n",
    "                    ttv[u].append(classes[j][k])\n",
    "                    num += 1\n",
    "                else:\n",
    "                    if u < len(length) - 1:\n",
    "                        u += 1\n",
    "                        num = 0\n",
    "                    ttv[u].append(classes[j][k])\n",
    "                    num += 1\n",
    "        for i in range(len(ttv)):\n",
    "            ttv[i] = np.array(ttv[i])\n",
    "            np.random.shuffle(ttv[i])\n",
    "        out = []\n",
    "        for i in range(len(ttv)):\n",
    "            out.append(TensorDataset(torch.tensor(ttv[i][:,:-1], dtype=torch.float), torch.tensor(ttv[i][:,-1], dtype=torch.float).view(-1,1)))\n",
    "        return out"
   ]
  },
  {
   "cell_type": "code",
   "execution_count": 11,
   "metadata": {},
   "outputs": [],
   "source": [
    "models = [PhishingRegressor(name=str(i+1)) for i in range(5)]"
   ]
  },
  {
   "cell_type": "code",
   "execution_count": 12,
   "metadata": {},
   "outputs": [
    {
     "name": "stdout",
     "output_type": "stream",
     "text": [
      "Train model №1:\n",
      "\n",
      "Epoch = 100, loss = 0.40486,acc_train = 0.905, acc_val = 0.9, acc_test = 1.0\n",
      "Epoch = 200, loss = 0.28624,acc_train = 0.925, acc_val = 1.0, acc_test = 1.0\n",
      "Epoch = 300, loss = 0.22742,acc_train = 0.935, acc_val = 1.0, acc_test = 1.0\n",
      "Epoch = 400, loss = 0.19278,acc_train = 0.94, acc_val = 1.0, acc_test = 1.0\n",
      "Epoch = 500, loss = 0.17126,acc_train = 0.94, acc_val = 1.0, acc_test = 1.0\n",
      "Epoch = 600, loss = 0.15742,acc_train = 0.935, acc_val = 1.0, acc_test = 1.0\n",
      "Epoch = 700, loss = 0.1481,acc_train = 0.935, acc_val = 1.0, acc_test = 1.0\n",
      "Epoch = 800, loss = 0.14171,acc_train = 0.935, acc_val = 1.0, acc_test = 1.0\n",
      "Epoch = 900, loss = 0.13736,acc_train = 0.94, acc_val = 1.0, acc_test = 1.0\n",
      "Epoch = 1000, loss = 0.13445,acc_train = 0.94, acc_val = 1.0, acc_test = 1.0\n",
      "Epoch = 1100, loss = 0.13254,acc_train = 0.94, acc_val = 1.0, acc_test = 1.0\n",
      "Epoch = 1200, loss = 0.13132,acc_train = 0.94, acc_val = 1.0, acc_test = 1.0\n",
      "Epoch = 1300, loss = 0.13059,acc_train = 0.94, acc_val = 1.0, acc_test = 1.0\n",
      "Epoch = 1400, loss = 0.13019,acc_train = 0.94, acc_val = 1.0, acc_test = 1.0\n",
      "Epoch = 1500, loss = 0.12999,acc_train = 0.94, acc_val = 1.0, acc_test = 1.0\n",
      "Epoch = 1600, loss = 0.12993,acc_train = 0.94, acc_val = 1.0, acc_test = 1.0\n",
      "Epoch = 1700, loss = 0.12993,acc_train = 0.945, acc_val = 1.0, acc_test = 1.0\n",
      "Epoch = 1800, loss = 0.12998,acc_train = 0.945, acc_val = 1.0, acc_test = 1.0\n",
      "Epoch = 1900, loss = 0.13006,acc_train = 0.945, acc_val = 1.0, acc_test = 1.0\n",
      "Epoch = 2000, loss = 0.13015,acc_train = 0.945, acc_val = 1.0, acc_test = 1.0\n",
      "Epoch = 2100, loss = 0.13025,acc_train = 0.945, acc_val = 1.0, acc_test = 1.0\n",
      "Epoch = 2200, loss = 0.13037,acc_train = 0.945, acc_val = 1.0, acc_test = 1.0\n",
      "Epoch = 2300, loss = 0.1305,acc_train = 0.945, acc_val = 1.0, acc_test = 1.0\n",
      "Epoch = 2400, loss = 0.13064,acc_train = 0.945, acc_val = 1.0, acc_test = 1.0\n",
      "Epoch = 2500, loss = 0.13078,acc_train = 0.945, acc_val = 1.0, acc_test = 1.0\n",
      "Epoch = 2600, loss = 0.13094,acc_train = 0.945, acc_val = 1.0, acc_test = 1.0\n",
      "Epoch = 2700, loss = 0.1311,acc_train = 0.945, acc_val = 1.0, acc_test = 1.0\n",
      "Epoch = 2800, loss = 0.13127,acc_train = 0.945, acc_val = 1.0, acc_test = 1.0\n",
      "Epoch = 2900, loss = 0.13145,acc_train = 0.945, acc_val = 1.0, acc_test = 1.0\n",
      "Epoch = 3000, loss = 0.13163,acc_train = 0.945, acc_val = 1.0, acc_test = 1.0\n",
      "Epoch = 3100, loss = 0.13182,acc_train = 0.945, acc_val = 1.0, acc_test = 1.0\n",
      "Epoch = 3200, loss = 0.13202,acc_train = 0.945, acc_val = 1.0, acc_test = 1.0\n",
      "Epoch = 3300, loss = 0.13222,acc_train = 0.945, acc_val = 1.0, acc_test = 1.0\n",
      "Epoch = 3400, loss = 0.13242,acc_train = 0.945, acc_val = 1.0, acc_test = 1.0\n",
      "Epoch = 3500, loss = 0.13262,acc_train = 0.945, acc_val = 1.0, acc_test = 1.0\n",
      "Epoch = 3600, loss = 0.13283,acc_train = 0.945, acc_val = 1.0, acc_test = 1.0\n",
      "Epoch = 3700, loss = 0.13305,acc_train = 0.945, acc_val = 1.0, acc_test = 1.0\n",
      "Epoch = 3800, loss = 0.13326,acc_train = 0.945, acc_val = 1.0, acc_test = 1.0\n",
      "Epoch = 3900, loss = 0.13348,acc_train = 0.945, acc_val = 1.0, acc_test = 1.0\n",
      "Epoch = 4000, loss = 0.1337,acc_train = 0.945, acc_val = 1.0, acc_test = 1.0\n",
      "\n",
      "Train model №2:\n",
      "\n",
      "Epoch = 100, loss = 0.20294,acc_train = 0.93, acc_val = 0.9, acc_test = 0.85\n",
      "Epoch = 200, loss = 0.12586,acc_train = 0.94, acc_val = 0.9, acc_test = 0.85\n",
      "Epoch = 300, loss = 0.08908,acc_train = 0.955, acc_val = 0.9, acc_test = 0.9\n",
      "Epoch = 400, loss = 0.067,acc_train = 0.955, acc_val = 0.9, acc_test = 0.9\n",
      "Epoch = 500, loss = 0.05291,acc_train = 0.955, acc_val = 0.9, acc_test = 0.9\n",
      "Epoch = 600, loss = 0.04382,acc_train = 0.955, acc_val = 0.9, acc_test = 0.9\n",
      "Epoch = 700, loss = 0.03795,acc_train = 0.955, acc_val = 0.9, acc_test = 0.9\n",
      "\n",
      "Train model №3:\n",
      "\n",
      "Epoch = 100, loss = 0.24126,acc_train = 0.91, acc_val = 0.9, acc_test = 0.95\n",
      "Epoch = 200, loss = 0.18589,acc_train = 0.945, acc_val = 1.0, acc_test = 0.95\n",
      "Epoch = 300, loss = 0.1566,acc_train = 0.945, acc_val = 1.0, acc_test = 0.95\n",
      "Epoch = 400, loss = 0.133,acc_train = 0.95, acc_val = 1.0, acc_test = 0.95\n",
      "Epoch = 500, loss = 0.11546,acc_train = 0.95, acc_val = 1.0, acc_test = 0.95\n",
      "Epoch = 600, loss = 0.10295,acc_train = 0.95, acc_val = 1.0, acc_test = 0.95\n",
      "Epoch = 700, loss = 0.09404,acc_train = 0.95, acc_val = 1.0, acc_test = 0.95\n",
      "Epoch = 800, loss = 0.08758,acc_train = 0.95, acc_val = 1.0, acc_test = 0.95\n",
      "Epoch = 900, loss = 0.08278,acc_train = 0.955, acc_val = 1.0, acc_test = 0.95\n",
      "Epoch = 1000, loss = 0.07908,acc_train = 0.955, acc_val = 1.0, acc_test = 0.95\n",
      "Epoch = 1100, loss = 0.07616,acc_train = 0.955, acc_val = 1.0, acc_test = 0.95\n",
      "Epoch = 1200, loss = 0.07377,acc_train = 0.955, acc_val = 1.0, acc_test = 0.95\n",
      "Epoch = 1300, loss = 0.07178,acc_train = 0.955, acc_val = 1.0, acc_test = 0.95\n",
      "Epoch = 1400, loss = 0.07006,acc_train = 0.955, acc_val = 1.0, acc_test = 0.95\n",
      "Epoch = 1500, loss = 0.06857,acc_train = 0.955, acc_val = 1.0, acc_test = 0.95\n",
      "Epoch = 1600, loss = 0.06725,acc_train = 0.955, acc_val = 1.0, acc_test = 0.95\n",
      "Epoch = 1700, loss = 0.06607,acc_train = 0.955, acc_val = 1.0, acc_test = 0.95\n",
      "Epoch = 1800, loss = 0.06501,acc_train = 0.955, acc_val = 1.0, acc_test = 0.95\n",
      "Epoch = 1900, loss = 0.06405,acc_train = 0.955, acc_val = 1.0, acc_test = 0.95\n",
      "Epoch = 2000, loss = 0.06317,acc_train = 0.955, acc_val = 1.0, acc_test = 0.95\n",
      "Epoch = 2100, loss = 0.06236,acc_train = 0.955, acc_val = 1.0, acc_test = 0.95\n",
      "Epoch = 2200, loss = 0.06162,acc_train = 0.955, acc_val = 1.0, acc_test = 0.95\n",
      "Epoch = 2300, loss = 0.06093,acc_train = 0.955, acc_val = 1.0, acc_test = 0.95\n",
      "Epoch = 2400, loss = 0.06028,acc_train = 0.955, acc_val = 1.0, acc_test = 0.95\n",
      "Epoch = 2500, loss = 0.05969,acc_train = 0.955, acc_val = 1.0, acc_test = 0.95\n",
      "Epoch = 2600, loss = 0.05912,acc_train = 0.955, acc_val = 1.0, acc_test = 0.95\n",
      "Epoch = 2700, loss = 0.05859,acc_train = 0.955, acc_val = 1.0, acc_test = 0.95\n",
      "Epoch = 2800, loss = 0.0581,acc_train = 0.955, acc_val = 1.0, acc_test = 0.95\n",
      "Epoch = 2900, loss = 0.05762,acc_train = 0.955, acc_val = 1.0, acc_test = 0.95\n",
      "Epoch = 3000, loss = 0.05718,acc_train = 0.955, acc_val = 1.0, acc_test = 0.95\n",
      "Epoch = 3100, loss = 0.05675,acc_train = 0.955, acc_val = 1.0, acc_test = 0.95\n",
      "Epoch = 3200, loss = 0.05635,acc_train = 0.955, acc_val = 1.0, acc_test = 0.95\n",
      "Epoch = 3300, loss = 0.05596,acc_train = 0.955, acc_val = 1.0, acc_test = 0.95\n",
      "Epoch = 3400, loss = 0.05559,acc_train = 0.955, acc_val = 1.0, acc_test = 0.95\n",
      "Epoch = 3500, loss = 0.05523,acc_train = 0.955, acc_val = 1.0, acc_test = 0.95\n",
      "Epoch = 3600, loss = 0.05489,acc_train = 0.955, acc_val = 1.0, acc_test = 0.95\n",
      "Epoch = 3700, loss = 0.05456,acc_train = 0.955, acc_val = 1.0, acc_test = 0.95\n",
      "Epoch = 3800, loss = 0.05425,acc_train = 0.955, acc_val = 1.0, acc_test = 0.95\n",
      "Epoch = 3900, loss = 0.05394,acc_train = 0.955, acc_val = 1.0, acc_test = 0.95\n",
      "Epoch = 4000, loss = 0.05365,acc_train = 0.955, acc_val = 1.0, acc_test = 0.95\n",
      "\n",
      "Train model №4:\n",
      "\n",
      "Epoch = 100, loss = 0.3122,acc_train = 0.91, acc_val = 0.9, acc_test = 0.95\n",
      "Epoch = 200, loss = 0.20858,acc_train = 0.92, acc_val = 0.9, acc_test = 0.95\n",
      "Epoch = 300, loss = 0.15763,acc_train = 0.935, acc_val = 0.9, acc_test = 0.95\n",
      "Epoch = 400, loss = 0.12832,acc_train = 0.945, acc_val = 1.0, acc_test = 0.95\n",
      "Epoch = 500, loss = 0.10994,acc_train = 0.945, acc_val = 1.0, acc_test = 0.95\n",
      "Epoch = 600, loss = 0.09773,acc_train = 0.945, acc_val = 1.0, acc_test = 0.95\n",
      "Epoch = 700, loss = 0.08939,acc_train = 0.945, acc_val = 1.0, acc_test = 0.95\n",
      "Epoch = 800, loss = 0.08368,acc_train = 0.945, acc_val = 1.0, acc_test = 0.95\n",
      "Epoch = 900, loss = 0.07975,acc_train = 0.945, acc_val = 1.0, acc_test = 0.95\n",
      "Epoch = 1000, loss = 0.07701,acc_train = 0.95, acc_val = 1.0, acc_test = 0.95\n",
      "Epoch = 1100, loss = 0.07507,acc_train = 0.95, acc_val = 1.0, acc_test = 0.95\n",
      "Epoch = 1200, loss = 0.07367,acc_train = 0.95, acc_val = 1.0, acc_test = 0.95\n",
      "Epoch = 1300, loss = 0.07264,acc_train = 0.95, acc_val = 1.0, acc_test = 0.95\n",
      "Epoch = 1400, loss = 0.07189,acc_train = 0.95, acc_val = 1.0, acc_test = 0.95\n",
      "Epoch = 1500, loss = 0.07134,acc_train = 0.95, acc_val = 1.0, acc_test = 0.95\n",
      "Epoch = 1600, loss = 0.07096,acc_train = 0.95, acc_val = 1.0, acc_test = 0.95\n",
      "Epoch = 1700, loss = 0.07071,acc_train = 0.95, acc_val = 1.0, acc_test = 0.95\n",
      "Epoch = 1800, loss = 0.07055,acc_train = 0.955, acc_val = 1.0, acc_test = 0.95\n",
      "Epoch = 1900, loss = 0.07047,acc_train = 0.955, acc_val = 1.0, acc_test = 0.95\n",
      "Epoch = 2000, loss = 0.07043,acc_train = 0.955, acc_val = 1.0, acc_test = 0.95\n",
      "Epoch = 2100, loss = 0.07043,acc_train = 0.955, acc_val = 1.0, acc_test = 0.95\n",
      "Epoch = 2200, loss = 0.07046,acc_train = 0.955, acc_val = 1.0, acc_test = 0.95\n",
      "Epoch = 2300, loss = 0.0705,acc_train = 0.955, acc_val = 1.0, acc_test = 0.95\n",
      "Epoch = 2400, loss = 0.07057,acc_train = 0.955, acc_val = 1.0, acc_test = 0.95\n",
      "\n",
      "Train model №5:\n",
      "\n",
      "Epoch = 100, loss = 0.35512,acc_train = 0.93, acc_val = 0.9, acc_test = 0.9\n",
      "Epoch = 200, loss = 0.28066,acc_train = 0.94, acc_val = 0.9, acc_test = 0.9\n",
      "Epoch = 300, loss = 0.23784,acc_train = 0.955, acc_val = 1.0, acc_test = 0.9\n",
      "Epoch = 400, loss = 0.20471,acc_train = 0.95, acc_val = 1.0, acc_test = 0.9\n",
      "Epoch = 500, loss = 0.17984,acc_train = 0.95, acc_val = 1.0, acc_test = 0.9\n",
      "Epoch = 600, loss = 0.16282,acc_train = 0.95, acc_val = 1.0, acc_test = 0.9\n",
      "Epoch = 700, loss = 0.15134,acc_train = 0.955, acc_val = 1.0, acc_test = 0.9\n",
      "Epoch = 800, loss = 0.14324,acc_train = 0.955, acc_val = 1.0, acc_test = 0.9\n",
      "Epoch = 900, loss = 0.13721,acc_train = 0.95, acc_val = 1.0, acc_test = 0.9\n",
      "Epoch = 1000, loss = 0.13253,acc_train = 0.95, acc_val = 1.0, acc_test = 0.9\n",
      "Epoch = 1100, loss = 0.12878,acc_train = 0.95, acc_val = 1.0, acc_test = 0.9\n",
      "Epoch = 1200, loss = 0.12574,acc_train = 0.955, acc_val = 1.0, acc_test = 0.9\n",
      "Epoch = 1300, loss = 0.12324,acc_train = 0.955, acc_val = 1.0, acc_test = 0.9\n",
      "Epoch = 1400, loss = 0.12118,acc_train = 0.955, acc_val = 1.0, acc_test = 0.9\n",
      "Epoch = 1500, loss = 0.11948,acc_train = 0.955, acc_val = 1.0, acc_test = 0.9\n",
      "Epoch = 1600, loss = 0.11806,acc_train = 0.955, acc_val = 1.0, acc_test = 0.9\n",
      "Epoch = 1700, loss = 0.11688,acc_train = 0.955, acc_val = 1.0, acc_test = 0.9\n",
      "Epoch = 1800, loss = 0.11587,acc_train = 0.955, acc_val = 1.0, acc_test = 0.9\n",
      "Epoch = 1900, loss = 0.11501,acc_train = 0.955, acc_val = 1.0, acc_test = 0.9\n",
      "Epoch = 2000, loss = 0.11427,acc_train = 0.955, acc_val = 1.0, acc_test = 0.9\n",
      "Epoch = 2100, loss = 0.11363,acc_train = 0.955, acc_val = 1.0, acc_test = 0.9\n",
      "Epoch = 2200, loss = 0.11307,acc_train = 0.955, acc_val = 1.0, acc_test = 0.9\n",
      "Epoch = 2300, loss = 0.11258,acc_train = 0.955, acc_val = 1.0, acc_test = 0.9\n",
      "Epoch = 2400, loss = 0.11214,acc_train = 0.955, acc_val = 1.0, acc_test = 0.9\n",
      "Epoch = 2500, loss = 0.11176,acc_train = 0.955, acc_val = 1.0, acc_test = 0.9\n",
      "Epoch = 2600, loss = 0.11141,acc_train = 0.955, acc_val = 1.0, acc_test = 0.9\n",
      "Epoch = 2700, loss = 0.11111,acc_train = 0.955, acc_val = 1.0, acc_test = 0.9\n",
      "Epoch = 2800, loss = 0.11083,acc_train = 0.955, acc_val = 1.0, acc_test = 0.9\n",
      "Epoch = 2900, loss = 0.11058,acc_train = 0.955, acc_val = 1.0, acc_test = 0.9\n",
      "\n"
     ]
    },
    {
     "data": {
      "image/png": "[encoded data removed]",
      "text/plain": [
       "<Figure size 432x288 with 1 Axes>"
      ]
     },
     "metadata": {
      "needs_background": "light"
     },
     "output_type": "display_data"
    }
   ],
   "source": [
    "for model in models:\n",
    "    print(f'Train model №{model.name}:\\n')\n",
    "    model.train_model(data_all)\n",
    "    print()"
   ]
  },
  {
   "cell_type": "code",
   "execution_count": 13,
   "metadata": {},
   "outputs": [],
   "source": [
    "def get_color_array(array, f):\n",
    "    return ['red' if f(array[i]) > 0.5 else 'blue' for i in range(len(array))]"
   ]
  },
  {
   "cell_type": "code",
   "execution_count": 14,
   "metadata": {},
   "outputs": [],
   "source": [
    "from sklearn.manifold import TSNE"
   ]
  },
  {
   "cell_type": "code",
   "execution_count": 15,
   "metadata": {},
   "outputs": [],
   "source": [
    "model_to2D = TSNE(learning_rate=1)\n",
    "transform = model_to2D.fit_transform(data_all[:,:-1])"
   ]
  },
  {
   "cell_type": "code",
   "execution_count": 16,
   "metadata": {},
   "outputs": [],
   "source": [
    "x = transform[:,0]\n",
    "y = transform[:,1]"
   ]
  },
  {
   "cell_type": "code",
   "execution_count": 17,
   "metadata": {},
   "outputs": [],
   "source": [
    "y_val = data_all.T[-1]"
   ]
  },
  {
   "cell_type": "code",
   "execution_count": 18,
   "metadata": {},
   "outputs": [],
   "source": [
    "y_val_color = get_color_array(y_val, lambda x: x)"
   ]
  },
  {
   "cell_type": "code",
   "execution_count": 57,
   "metadata": {},
   "outputs": [
    {
     "name": "stdout",
     "output_type": "stream",
     "text": [
      "Using matplotlib backend: Qt5Agg\n"
     ]
    }
   ],
   "source": [
    "%matplotlib\n",
    "data_for_model = TensorDataset(torch.tensor(data_all[:,:-1], dtype=torch.float), torch.tensor(data_all[:,-1], dtype=torch.float).view(-1,1))\n",
    "data_load = DataLoader(dataset=data_for_model, batch_size=data_all.shape[0])\n",
    "f, ax = plt.subplots(5,1)\n",
    "for a,b in data_load:\n",
    "    tmp = []\n",
    "    i = 0\n",
    "    my_f = lambda x: 0.5\n",
    "    y_plot = np.array([my_f(x[i]) for i in range(x.shape[0])])\n",
    "#     print(y_plot)\n",
    "    for model in models:\n",
    "        tmp.append(model(a)[:,0].detach().numpy())\n",
    "        ax[i].scatter(x,model(a)[:,0].detach().numpy(), c=y_val_color)\n",
    "        ax[i].plot(x,y_plot)\n",
    "        i+=1\n",
    "    tmp = np.array(tmp)\n",
    "    t = b.detach().numpy()\n",
    "Data_con = np.concatenate((tmp.T, t), axis=1)"
   ]
  },
  {
   "cell_type": "code",
   "execution_count": 27,
   "metadata": {},
   "outputs": [
    {
     "data": {
      "text/plain": [
       "(230, 6)"
      ]
     },
     "execution_count": 27,
     "metadata": {},
     "output_type": "execute_result"
    }
   ],
   "source": [
    "Data_con.shape"
   ]
  },
  {
   "cell_type": "code",
   "execution_count": 30,
   "metadata": {},
   "outputs": [],
   "source": [
    "model_con = ConnectModels()"
   ]
  },
  {
   "cell_type": "code",
   "execution_count": 31,
   "metadata": {},
   "outputs": [
    {
     "name": "stdout",
     "output_type": "stream",
     "text": [
      "Epoch = 100, loss = 0.62975,                      acc_train = 0.875, acc_val = 0.9,                      acc_test = 0.9\n",
      "Epoch = 200, loss = 0.62975,                      acc_train = 0.875, acc_val = 0.9,                      acc_test = 0.9\n",
      "Epoch = 300, loss = 0.62975,                      acc_train = 0.875, acc_val = 0.9,                      acc_test = 0.9\n",
      "Epoch = 400, loss = 0.62975,                      acc_train = 0.875, acc_val = 0.9,                      acc_test = 0.9\n",
      "Epoch = 500, loss = 0.62975,                      acc_train = 0.875, acc_val = 0.9,                      acc_test = 0.9\n",
      "Epoch = 600, loss = 0.62975,                      acc_train = 0.875, acc_val = 0.9,                      acc_test = 0.9\n",
      "Epoch = 700, loss = 0.62975,                      acc_train = 0.875, acc_val = 0.9,                      acc_test = 0.9\n",
      "Epoch = 800, loss = 0.62975,                      acc_train = 0.875, acc_val = 0.9,                      acc_test = 0.9\n",
      "Epoch = 900, loss = 0.62975,                      acc_train = 0.875, acc_val = 0.9,                      acc_test = 0.9\n",
      "Epoch = 1000, loss = 0.62975,                      acc_train = 0.875, acc_val = 0.9,                      acc_test = 0.9\n",
      "Epoch = 1100, loss = 0.62975,                      acc_train = 0.875, acc_val = 0.9,                      acc_test = 0.9\n",
      "Epoch = 1200, loss = 0.62975,                      acc_train = 0.875, acc_val = 0.9,                      acc_test = 0.9\n",
      "Epoch = 1300, loss = 0.62975,                      acc_train = 0.875, acc_val = 0.9,                      acc_test = 0.9\n",
      "Epoch = 1400, loss = 0.62975,                      acc_train = 0.875, acc_val = 0.9,                      acc_test = 0.9\n",
      "Epoch = 1500, loss = 0.62975,                      acc_train = 0.875, acc_val = 0.9,                      acc_test = 0.9\n",
      "Epoch = 1600, loss = 0.62975,                      acc_train = 0.875, acc_val = 0.9,                      acc_test = 0.9\n",
      "Epoch = 1700, loss = 0.62975,                      acc_train = 0.875, acc_val = 0.9,                      acc_test = 0.9\n",
      "Epoch = 1800, loss = 0.62975,                      acc_train = 0.875, acc_val = 0.9,                      acc_test = 0.9\n",
      "Epoch = 1900, loss = 0.62975,                      acc_train = 0.875, acc_val = 0.9,                      acc_test = 0.9\n",
      "Epoch = 2000, loss = 0.62975,                      acc_train = 0.875, acc_val = 0.9,                      acc_test = 0.9\n",
      "Epoch = 2100, loss = 0.62975,                      acc_train = 0.875, acc_val = 0.9,                      acc_test = 0.9\n",
      "Epoch = 2200, loss = 0.62975,                      acc_train = 0.875, acc_val = 0.9,                      acc_test = 0.9\n",
      "Epoch = 2300, loss = 0.62975,                      acc_train = 0.875, acc_val = 0.9,                      acc_test = 0.9\n",
      "Epoch = 2400, loss = 0.62975,                      acc_train = 0.875, acc_val = 0.9,                      acc_test = 0.9\n",
      "Epoch = 2500, loss = 0.62975,                      acc_train = 0.875, acc_val = 0.9,                      acc_test = 0.9\n",
      "Epoch = 2600, loss = 0.62975,                      acc_train = 0.875, acc_val = 0.9,                      acc_test = 0.9\n",
      "Epoch = 2700, loss = 0.62975,                      acc_train = 0.875, acc_val = 0.9,                      acc_test = 0.9\n",
      "Epoch = 2800, loss = 0.62975,                      acc_train = 0.875, acc_val = 0.9,                      acc_test = 0.9\n",
      "Epoch = 2900, loss = 0.62975,                      acc_train = 0.875, acc_val = 0.9,                      acc_test = 0.9\n",
      "Epoch = 3000, loss = 0.62975,                      acc_train = 0.875, acc_val = 0.9,                      acc_test = 0.9\n",
      "Epoch = 3100, loss = 0.62975,                      acc_train = 0.875, acc_val = 0.9,                      acc_test = 0.9\n",
      "Epoch = 3200, loss = 0.62975,                      acc_train = 0.875, acc_val = 0.9,                      acc_test = 0.9\n",
      "Epoch = 3300, loss = 0.62975,                      acc_train = 0.875, acc_val = 0.9,                      acc_test = 0.9\n",
      "Epoch = 3400, loss = 0.62975,                      acc_train = 0.875, acc_val = 0.9,                      acc_test = 0.9\n",
      "Epoch = 3500, loss = 0.62975,                      acc_train = 0.875, acc_val = 0.9,                      acc_test = 0.9\n",
      "Epoch = 3600, loss = 0.62975,                      acc_train = 0.875, acc_val = 0.9,                      acc_test = 0.9\n",
      "Epoch = 3700, loss = 0.62975,                      acc_train = 0.875, acc_val = 0.9,                      acc_test = 0.9\n",
      "Epoch = 3800, loss = 0.62975,                      acc_train = 0.875, acc_val = 0.9,                      acc_test = 0.9\n",
      "Epoch = 3900, loss = 0.62975,                      acc_train = 0.875, acc_val = 0.9,                      acc_test = 0.9\n",
      "Epoch = 4000, loss = 0.62975,                      acc_train = 0.875, acc_val = 0.9,                      acc_test = 0.9\n",
      "Epoch = 4000, loss = 0.62975,                      acc_train = 0.875, acc_val = 0.9,                      acc_test = 0.9\n"
     ]
    },
    {
     "data": {
      "image/png": "[encoded data removed]",
      "text/plain": [
       "<Figure size 432x288 with 1 Axes>"
      ]
     },
     "metadata": {
      "needs_background": "light"
     },
     "output_type": "display_data"
    }
   ],
   "source": [
    "model_con.train_model(Data_con)"
   ]
  },
  {
   "cell_type": "code",
   "execution_count": 32,
   "metadata": {},
   "outputs": [
    {
     "data": {
      "text/plain": [
       "(5, 1)"
      ]
     },
     "execution_count": 32,
     "metadata": {},
     "output_type": "execute_result"
    }
   ],
   "source": [
    "t[:5,:].shape"
   ]
  },
  {
   "cell_type": "code",
   "execution_count": 33,
   "metadata": {},
   "outputs": [
    {
     "data": {
      "text/plain": [
       "(5, 230)"
      ]
     },
     "execution_count": 33,
     "metadata": {},
     "output_type": "execute_result"
    }
   ],
   "source": [
    "tmp.shape"
   ]
  },
  {
   "cell_type": "code",
   "execution_count": 594,
   "metadata": {},
   "outputs": [
    {
     "data": {
      "text/plain": [
       "(array([[ 0.18202019],\n",
       "        [-1.5083923 ],\n",
       "        [-1.5250931 ],\n",
       "        [-0.7515869 ],\n",
       "        [ 4.598419  ]], dtype=float32),\n",
       " 0.9608695652173913)"
      ]
     },
     "execution_count": 594,
     "metadata": {},
     "output_type": "execute_result"
    }
   ],
   "source": [
    "max_coef = []\n",
    "max_acc = 0\n",
    "for i in range(tmp.T.shape[0]-5):\n",
    "    if np.linalg.det(tmp.T[i:i+5,:])!= 0:\n",
    "        k = np.linalg.inv(tmp.T[i:i+5,:]).dot(t[:5,:])\n",
    "        tr = tmp.T.dot(k)\n",
    "        acc = sum([int(t[j] == int(tr[j]>0.5)) for j in range(tr.shape[0])])/tr.shape[0]\n",
    "#         print(acc)\n",
    "        if max_acc < acc:\n",
    "            max_acc = acc\n",
    "            max_coef = k\n",
    "max_coef, max_acc"
   ]
  },
  {
   "cell_type": "code",
   "execution_count": 553,
   "metadata": {},
   "outputs": [
    {
     "data": {
      "text/plain": [
       "array([5, 7, 9])"
      ]
     },
     "execution_count": 553,
     "metadata": {},
     "output_type": "execute_result"
    }
   ],
   "source": [
    "h = np.array([[1,2,3],[4,5,6]])\n",
    "sum(h)"
   ]
  },
  {
   "cell_type": "code",
   "execution_count": 123,
   "metadata": {},
   "outputs": [],
   "source": [
    "res_train_color = get_color_array(X_train, model)"
   ]
  },
  {
   "cell_type": "code",
   "execution_count": 21,
   "metadata": {},
   "outputs": [
    {
     "data": {
      "image/png": "[encoded data removed]",
      "text/plain": [
       "<Figure size 432x288 with 2 Axes>"
      ]
     },
     "metadata": {
      "needs_background": "light"
     },
     "output_type": "display_data"
    }
   ],
   "source": [
    "f_train, ax1 = plt.subplots(1,2, sharey=True)\n",
    "ax1[0].scatter(x, y, c=val_train_color)\n",
    "ax1[0].set_title('без обработки')\n",
    "ax1[1].scatter(x, y, c=res_train_color)\n",
    "ax1[1].set_title('результат модели')\n",
    "plt.show()"
   ]
  },
  {
   "cell_type": "code",
   "execution_count": 22,
   "metadata": {},
   "outputs": [],
   "source": [
    "transform_test = model_to2D.fit_transform(data_test)\n",
    "x_2 = transform_test[:, 0]\n",
    "y_2 = transform_test[:, 1]"
   ]
  },
  {
   "cell_type": "code",
   "execution_count": 24,
   "metadata": {},
   "outputs": [],
   "source": [
    "res_color_test = get_color_array(X_test, model)"
   ]
  },
  {
   "cell_type": "code",
   "execution_count": 25,
   "metadata": {},
   "outputs": [
    {
     "data": {
      "image/png": "[encoded data removed]",
      "text/plain": [
       "<Figure size 432x288 with 2 Axes>"
      ]
     },
     "metadata": {
      "needs_background": "light"
     },
     "output_type": "display_data"
    }
   ],
   "source": [
    "f_test, ax2 = plt.subplots(1,2, sharey=True)\n",
    "ax2[0].scatter(x_2, y_2, c=val_test_color)\n",
    "ax2[0].set_title('Тестовое множесто')\n",
    "ax2[1].scatter(x_2, y_2, c=res_color_test)\n",
    "ax2[1].set_title('Результат модели')\n",
    "plt.show()"
   ]
  },
  {
   "cell_type": "code",
   "execution_count": 26,
   "metadata": {},
   "outputs": [],
   "source": [
    "acc = sum([int(val_test[i] == int(model(X_test[i])>0.5)) for i in range(X_test.shape[0])])/X_test.shape[0]"
   ]
  },
  {
   "cell_type": "code",
   "execution_count": 27,
   "metadata": {},
   "outputs": [
    {
     "data": {
      "text/plain": [
       "0.9"
      ]
     },
     "execution_count": 27,
     "metadata": {},
     "output_type": "execute_result"
    }
   ],
   "source": [
    "acc"
   ]
  },
  {
   "cell_type": "code",
   "execution_count": 28,
   "metadata": {},
   "outputs": [],
   "source": [
    "def F_b (b=1):\n",
    "    return (1+b**2)*(precision*recall)/(b**2*precision+recall)"
   ]
  },
  {
   "cell_type": "code",
   "execution_count": 29,
   "metadata": {},
   "outputs": [
    {
     "data": {
      "text/plain": [
       "0.9"
      ]
     },
     "execution_count": 29,
     "metadata": {},
     "output_type": "execute_result"
    }
   ],
   "source": [
    "TP = 0\n",
    "FP = 0\n",
    "FN = 0\n",
    "for i in range(len(val_test)):\n",
    "    if val_test[i] == int(model(X_test[i])>0.5):\n",
    "        if int(model(X_test[i])>0.5) == 1:\n",
    "            TP += 1\n",
    "    else:\n",
    "        if int(model(X_test[i])>0.5) == 0:\n",
    "            FN += 1\n",
    "        else:\n",
    "            FP += 1\n",
    "precision = TP/(TP+FP)\n",
    "recall = TP/(TP+FN)\n",
    "F_b()"
   ]
  },
  {
   "cell_type": "code",
   "execution_count": 53,
   "metadata": {},
   "outputs": [],
   "source": [
    "a = np.array([[1,2,4]])\n",
    "b = np.array([[5,6,7]])"
   ]
  },
  {
   "cell_type": "code",
   "execution_count": 56,
   "metadata": {},
   "outputs": [
    {
     "data": {
      "text/plain": [
       "array([[1, 2, 4],\n",
       "       [5, 6, 7]])"
      ]
     },
     "execution_count": 56,
     "metadata": {},
     "output_type": "execute_result"
    }
   ],
   "source": [
    "np.concatenate((a,b), axis=0)"
   ]
  },
  {
   "cell_type": "code",
   "execution_count": 12,
   "metadata": {},
   "outputs": [],
   "source": [
    "X_test = torch.tensor(data_test, dtype=torch.float)"
   ]
  },
  {
   "cell_type": "code",
   "execution_count": 11,
   "metadata": {},
   "outputs": [],
   "source": [
    "X_train = torch.tensor(data_train, dtype=torch.float)\n",
    "y_train = torch.tensor(val_train, dtype=torch.float).view(-1,1)"
   ]
  },
  {
   "cell_type": "code",
   "execution_count": 13,
   "metadata": {},
   "outputs": [],
   "source": [
    "data = TensorDataset(X_train, y_train)"
   ]
  },
  {
   "cell_type": "code",
   "execution_count": 50,
   "metadata": {},
   "outputs": [],
   "source": [
    "\n",
    "def train_model():\n",
    "    optimizer = Adam(model.parameters(), lr=1e-3)\n",
    "\n",
    "    loss = nn.BCELoss()\n",
    "    train_loader = DataLoader(dataset=data, batch_size=20)\n",
    "    epoch = 0\n",
    "    while True:\n",
    "        for X_batch, y_batch in train_loader:   \n",
    "            y_pred = model(X_batch)    \n",
    "            bce = loss(y_pred, y_batch)\n",
    "\n",
    "            bce.backward()        \n",
    "\n",
    "            optimizer.step()\n",
    "            optimizer.zero_grad()       \n",
    "           \n",
    "        epoch += 1\n",
    "        if epoch % 100 == 0:\n",
    "            acc_val = round(sum([int(val_val[i] == int(model(X_val[i])>0.5)) for i in range(X_val.shape[0])])/val_val.shape[0], 2)\n",
    "            acc_test = round(sum([int(val_test[i] == int(model(X_test[i])>0.5)) for i in range(X_test.shape[0])])/val_test.shape[0], 2)\n",
    "            print(f'Epoch = {epoch}, loss = {bce}, acc_val = {acc_val}, acc_test = {acc_test}')\n",
    "        if bce < 0.0001:\n",
    "            break\n",
    "        if epoch == 10000:\n",
    "            break"
   ]
  },
  {
   "cell_type": "code",
   "execution_count": 34,
   "metadata": {},
   "outputs": [],
   "source": [
    "data_for_model = TensorDataset(torch.tensor(data_all[:,:-1], dtype=torch.float), torch.tensor(data_all[:,-1], dtype=torch.float).view(-1,1))\n",
    "data_load = DataLoader(dataset=data_for_model, batch_size=data_all.shape[0])\n",
    "for a,b in data_load:\n",
    "    tmp = []\n",
    "    for model in models:\n",
    "        tmp.append(model(a)[:,0].detach().numpy())\n",
    "    tmp = np.array(tmp).T"
   ]
  },
  {
   "cell_type": "code",
   "execution_count": 35,
   "metadata": {},
   "outputs": [],
   "source": [
    "tmp = torch.Tensor(tmp)"
   ]
  },
  {
   "cell_type": "code",
   "execution_count": 36,
   "metadata": {},
   "outputs": [
    {
     "data": {
      "text/plain": [
       "torch.Size([230, 5])"
      ]
     },
     "execution_count": 36,
     "metadata": {},
     "output_type": "execute_result"
    }
   ],
   "source": [
    "tmp.shape"
   ]
  },
  {
   "cell_type": "code",
   "execution_count": 38,
   "metadata": {},
   "outputs": [],
   "source": [
    "y_pred_last = model_con(tmp)[:,0].detach().numpy()"
   ]
  },
  {
   "cell_type": "code",
   "execution_count": 39,
   "metadata": {},
   "outputs": [
    {
     "data": {
      "text/plain": [
       "<matplotlib.collections.PathCollection at 0x234f58e3a08>"
      ]
     },
     "execution_count": 39,
     "metadata": {},
     "output_type": "execute_result"
    },
    {
     "data": {
      "image/png": "[encoded data removed]",
      "text/plain": [
       "<Figure size 432x288 with 1 Axes>"
      ]
     },
     "metadata": {
      "needs_background": "light"
     },
     "output_type": "display_data"
    }
   ],
   "source": [
    "plt.scatter(x,y_pred_last,c=y_val_color)"
   ]
  },
  {
   "cell_type": "code",
   "execution_count": null,
   "metadata": {},
   "outputs": [],
   "source": []
  }
 ],
 "metadata": {
  "kernelspec": {
   "display_name": "Python 3",
   "language": "python",
   "name": "python3"
  },
  "language_info": {
   "codemirror_mode": {
    "name": "ipython",
    "version": 3
   },
   "file_extension": ".py",
   "mimetype": "text/x-python",
   "name": "python",
   "nbconvert_exporter": "python",
   "pygments_lexer": "ipython3",
   "version": "3.7.6"
  }
 },
 "nbformat": 4,
 "nbformat_minor": 4
}
